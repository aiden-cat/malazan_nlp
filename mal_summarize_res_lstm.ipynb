{
 "cells": [
  {
   "cell_type": "code",
   "execution_count": 1,
   "metadata": {},
   "outputs": [],
   "source": [
    "import tensorflow as tf\n",
    "import os\n",
    "import glob\n",
    "import numpy as np\n",
    "from tensorflow.keras.preprocessing.text import Tokenizer\n",
    "from tensorflow.keras.utils import to_categorical\n",
    "from tensorflow.keras.models import Sequential\n",
    "from tensorflow.keras.layers import Dense, LSTM, Embedding, Dropout\n",
    "from tensorflow.keras.preprocessing.sequence import pad_sequences\n",
    "import matplotlib.pyplot as plt\n",
    "from tensorflow import keras\n",
    "import pandas as pd"
   ]
  },
  {
   "cell_type": "code",
   "execution_count": 2,
   "metadata": {},
   "outputs": [],
   "source": [
    "def generate_text_seq(model, tokenizer, text_seq_length, seed_text, n_words):\n",
    "    seed_text_orig = seed_text\n",
    "    text = []\n",
    "    predictions = []\n",
    "    for _ in range(n_words):\n",
    "        encoded = tokenizer.texts_to_sequences([seed_text])[0]\n",
    "        encoded = pad_sequences([encoded], maxlen = text_seq_length, truncating='pre')\n",
    "        y_predict = model.predict_classes(encoded)\n",
    "        predicted_word = ''\n",
    "        for word, index in tokenizer.word_index.items():\n",
    "          if index == y_predict:\n",
    "            predicted_word = word\n",
    "            break\n",
    "        seed_text = seed_text + ' ' + predicted_word\n",
    "        text.append(predicted_word)\n",
    "        predictions.append(predicted_word)\n",
    "#     print(f\"Original Text: {seed_text_orig}\\nPredicted text: {seed_text}\")\n",
    "    return ' '.join(predictions)"
   ]
  },
  {
   "cell_type": "code",
   "execution_count": 3,
   "metadata": {},
   "outputs": [
    {
     "name": "stdout",
     "output_type": "stream",
     "text": [
      "95708\n",
      "(95708, 25)\n",
      "25\n"
     ]
    },
    {
     "data": {
      "text/plain": [
       "8150"
      ]
     },
     "execution_count": 3,
     "metadata": {},
     "output_type": "execute_result"
    }
   ],
   "source": [
    "text =  open(\"/home/aho/git/malazan/txt/malazan_08_book_four_toll_the_hounds.txt\").read()\n",
    "text_split = text.split()\n",
    "\n",
    "## Generate training data length of 50 words\n",
    "length = 25 + 1\n",
    "lines = []\n",
    "\n",
    "for i in range(length, len(text_split)):\n",
    "  seq = text_split[i-length:i]\n",
    "  line = ' '.join(seq)\n",
    "  lines.append(line)\n",
    "\n",
    "print(len(lines))\n",
    "\n",
    "tokenizer = Tokenizer()\n",
    "tokenizer.fit_on_texts(lines)\n",
    "sequences = tokenizer.texts_to_sequences(lines)\n",
    "\n",
    "sequences = np.array(sequences)\n",
    "# X, y = sequences[:, :-1], sequences[:,-1]\n",
    "X = np.array([l[0:25] for l in sequences])\n",
    "y = np.array([l[-1] for l in sequences])\n",
    "vocab_size = len(tokenizer.word_index) + 1\n",
    "y = to_categorical(y, num_classes=vocab_size)\n",
    "seq_length = X.shape[1]\n",
    "\n",
    "print(X.shape)\n",
    "print(seq_length)\n",
    "\n",
    "vocab_size"
   ]
  },
  {
   "cell_type": "code",
   "execution_count": 37,
   "metadata": {},
   "outputs": [
    {
     "name": "stdout",
     "output_type": "stream",
     "text": [
      "Model: \"sequential\"\n",
      "_________________________________________________________________\n",
      "Layer (type)                 Output Shape              Param #   \n",
      "=================================================================\n",
      "embedding (Embedding)        (None, 25, 100)           815000    \n",
      "_________________________________________________________________\n",
      "lstm (LSTM)                  (None, 25, 300)           481200    \n",
      "_________________________________________________________________\n",
      "dropout (Dropout)            (None, 25, 300)           0         \n",
      "_________________________________________________________________\n",
      "lstm_1 (LSTM)                (None, 300)               721200    \n",
      "_________________________________________________________________\n",
      "dropout_1 (Dropout)          (None, 300)               0         \n",
      "_________________________________________________________________\n",
      "dense (Dense)                (None, 8150)              2453150   \n",
      "=================================================================\n",
      "Total params: 4,470,550\n",
      "Trainable params: 4,470,550\n",
      "Non-trainable params: 0\n",
      "_________________________________________________________________\n",
      "None\n"
     ]
    }
   ],
   "source": [
    "model = Sequential()\n",
    "model.add(Embedding(vocab_size, 100, input_length=seq_length))\n",
    "model.add(LSTM(lstm_size, return_sequences=True))\n",
    "model.add(Dropout(0.2))\n",
    "model.add(LSTM(lstm_size))\n",
    "model.add(Dropout(0.2))\n",
    "model.add(Dense(vocab_size, activation='softmax'))\n",
    "\n",
    "print(model.summary())"
   ]
  },
  {
   "cell_type": "code",
   "execution_count": null,
   "metadata": {},
   "outputs": [],
   "source": [
    "## Read in models and generate text\n",
    "## Final output:  A table with rows as number of iters, columns are predictions"
   ]
  },
  {
   "cell_type": "code",
   "execution_count": 35,
   "metadata": {},
   "outputs": [],
   "source": [
    "lstm_preds = {}\n",
    "\n",
    "for lstm_size in [100, 200, 300]:\n",
    "    lstm_preds[f'malazan-tth-lstm_size_{lstm_size}'] = {}\n",
    "    for iter in [10, 20, 30, 50, 150, 200, 300]:\n",
    "        model_tmp = keras.models.load_model(f\"/projects/dapg/nlp/malazan-tth-lstm_size_{lstm_size}/cp-0{str(iter).rjust(3, '0')}.ckpt\")\n",
    "        tmp_pred = generate_text_seq(model_tmp, tokenizer, seq_length, \"the power of that sword was breathtaking even for a god\", 50)\n",
    "        lstm_preds[f'malazan-tth-lstm_size_{lstm_size}'][str(iter).rjust(3, '0')] = tmp_pred"
   ]
  },
  {
   "cell_type": "code",
   "execution_count": 16,
   "metadata": {},
   "outputs": [],
   "source": [
    "batch_preds = {}\n",
    "\n",
    "for batch_size in [64, 128, 256]:\n",
    "    batch_preds[f'malazan-tth-batch_size_{batch_size}'] = {}\n",
    "    for iter in [10, 20, 30, 50, 150, 200, 300]:\n",
    "        model_tmp = keras.models.load_model(f\"/projects/dapg/nlp/malazan-tth-batch_size_{batch_size}/cp-0{str(iter).rjust(3, '0')}.ckpt\")\n",
    "        tmp_pred = generate_text_seq(model_tmp, tokenizer, seq_length, \"the power of that sword was breathtaking even for a god\", 50)\n",
    "        batch_preds[f'malazan-tth-batch_size_{batch_size}'][str(iter).rjust(3, '0')] = tmp_pred"
   ]
  },
  {
   "cell_type": "code",
   "execution_count": 8,
   "metadata": {},
   "outputs": [],
   "source": [
    "pd.set_option('display.max_colwidth', 0)"
   ]
  },
  {
   "cell_type": "markdown",
   "metadata": {},
   "source": [
    "# Interpreting Results"
   ]
  },
  {
   "cell_type": "code",
   "execution_count": 36,
   "metadata": {
    "scrolled": true
   },
   "outputs": [
    {
     "data": {
      "text/html": [
       "<div>\n",
       "<style scoped>\n",
       "    .dataframe tbody tr th:only-of-type {\n",
       "        vertical-align: middle;\n",
       "    }\n",
       "\n",
       "    .dataframe tbody tr th {\n",
       "        vertical-align: top;\n",
       "    }\n",
       "\n",
       "    .dataframe thead th {\n",
       "        text-align: right;\n",
       "    }\n",
       "</style>\n",
       "<table border=\"1\" class=\"dataframe\">\n",
       "  <thead>\n",
       "    <tr style=\"text-align: right;\">\n",
       "      <th></th>\n",
       "      <th>malazan-tth-lstm_size_100</th>\n",
       "      <th>malazan-tth-lstm_size_200</th>\n",
       "      <th>malazan-tth-lstm_size_300</th>\n",
       "    </tr>\n",
       "  </thead>\n",
       "  <tbody>\n",
       "    <tr>\n",
       "      <th>010</th>\n",
       "      <td>s face and the man s face and the man s face and the man s face and the man s face and the man s face and the man s face and the man s face and the man s face and the man s face and the man</td>\n",
       "      <td>s eyes and the man was not the man s eyes was the man s eyes and the man was a man s eyes and the man was a man s eyes and the man was a man s eyes was the man s eyes and the man was a</td>\n",
       "      <td>s face and the man s head was a single thing of the city of the city of the city of the city of the city of the city of the city of the city of the city of the city of the city of the city of the city</td>\n",
       "    </tr>\n",
       "    <tr>\n",
       "      <th>020</th>\n",
       "      <td>s head and the hounds of shadow and the world s head and the hounds of shadow and the world s head and the hounds of shadow and the world s head and the hounds of shadow and the world s head and the hounds of shadow and the world</td>\n",
       "      <td>s charms the other tool the god had been spoken and the last thing of the fated a woman who had been cooing of weather of reeds the battlefield was threading into the midst of the cart and the one of the hoses was unclaimed and the one who had</td>\n",
       "      <td>breathtaking terrifying the world was gone the dragon was gone the beast was gone destroying the way of the city and the hound s head was the hounds of shadow and the hound s head was a endless machinery of skins and bone as if the beast was gone the</td>\n",
       "    </tr>\n",
       "    <tr>\n",
       "      <th>030</th>\n",
       "      <td>s charms that the world of shadow and the world of shadow deliciously feminine deadly empress conjured and the hounds of shadow was a few dog a few dog chasing mistaken and faceted in the first man he had been a coward of the world of the city of the</td>\n",
       "      <td>s consideration and needed to be stationed in the grasses the entire way of the world the explosions the suave lie and the whipping snow sprayed winds and then the one of the chained was the first robust among the nobles s a dead and the high king halts it</td>\n",
       "      <td>breathtaking terrifying he could feel the principle of convergence and cunning to the south of the gadrobi hills and the hounds of shadow had begun to shape the pickings of the house s head and acrobatically avoiding the impact boomed in the midst of the city exploded and the hounds</td>\n",
       "    </tr>\n",
       "    <tr>\n",
       "      <th>050</th>\n",
       "      <td>s careering arrival and now hinted in the air exploded from the impact s snout inward into the midst of a tapestry and the hound s head struck the lance cart and the phoenix inn was proving elusive a single refrain of the phoenix inn he had been a single</td>\n",
       "      <td>breathtaking terrifying the five plain of the gedderone f te was sinking away in the sky the world was rank with the dream who had once been itkovian down in the path of the enemy he was not endest silann could feel the same when they were truly nimander did</td>\n",
       "      <td>breathtaking terrifying they toppled on the sisters s careering eyes swung down from the saddle the beast s head pitched back on the mirror waters of the street and then a jungle nestled impossibly as the hounds of shadow had begun to shape the pickings on the cobbles and then</td>\n",
       "    </tr>\n",
       "    <tr>\n",
       "      <th>150</th>\n",
       "      <td>breathtaking terrifying they were chained in its wake each other frozen eyes than the soul of death and it was snatched to pass the hounds of shadow was a few thing a few paces ahead and it was a few paces away from the garden the foreman said was a</td>\n",
       "      <td>breathtaking terrifying they were but ghosts as they fought with a fancy aghast but now he would feel the ones more of anomander rake had ever been the cloud to spill the blind of oblivion the city it had been a time but the one that bore the lord of</td>\n",
       "      <td>breathtaking terrifying they looked gouged used their soft gifts before one side to the night a god s brain this lost his companion did the most chaos had now killed free of the tumbled wrinkled canvas of bodies that scurried in the centre of the city if he was worthy</td>\n",
       "    </tr>\n",
       "    <tr>\n",
       "      <th>200</th>\n",
       "      <td>breathtaking creatures on the wagon closing over her hands into the midst of a dozen nearby structures figures now clambered on the cobbles and then drawn in a chunk of stone that swirled past a screaming street and whirled through the estates district and eastward to the estate compound that</td>\n",
       "      <td>s dark judgement those few and the grip and all the lord of the dead f te and two great ravens were playing and proof of dread dread forces of shadow and two others and now the moon arrived in its skull had draining long and so much a single</td>\n",
       "      <td>breathtaking terrifying they might have been sufficient cause for some time could prove some trouble are indeed as they were in a group in an instant dragons would not be so centuries to heal wait to do and to see the damage but all this one and anomander rake himself</td>\n",
       "    </tr>\n",
       "    <tr>\n",
       "      <th>300</th>\n",
       "      <td>breathtaking creatures on the hounds tattoo like black roots a thundering of soldiering but the one who sought to arrive out of this dark was bleeding telling us on to me no could be so much he drew out that and that he could gaze forward enough and he had</td>\n",
       "      <td>s consideration a pattern a sword no little woman had been watching and none of this will such take this by the two god had things he would have to send him home the man had never been that it would be but he had no other to fall into</td>\n",
       "      <td>breathtaking terrifying they drew them into the air the gloom was locked in convulsions a convergence of inimical elements a narrow door to stare into the base of his brain surna and a few deep over the doorway s head were crossed his arms and i need to find a</td>\n",
       "    </tr>\n",
       "  </tbody>\n",
       "</table>\n",
       "</div>"
      ],
      "text/plain": [
       "                                                                                                                                                                                                                                                                                 malazan-tth-lstm_size_100  \\\n",
       "010  s face and the man s face and the man s face and the man s face and the man s face and the man s face and the man s face and the man s face and the man s face and the man s face and the man                                                                                                           \n",
       "020  s head and the hounds of shadow and the world s head and the hounds of shadow and the world s head and the hounds of shadow and the world s head and the hounds of shadow and the world s head and the hounds of shadow and the world                                                                   \n",
       "030  s charms that the world of shadow and the world of shadow deliciously feminine deadly empress conjured and the hounds of shadow was a few dog a few dog chasing mistaken and faceted in the first man he had been a coward of the world of the city of the                                              \n",
       "050  s careering arrival and now hinted in the air exploded from the impact s snout inward into the midst of a tapestry and the hound s head struck the lance cart and the phoenix inn was proving elusive a single refrain of the phoenix inn he had been a single                                          \n",
       "150  breathtaking terrifying they were chained in its wake each other frozen eyes than the soul of death and it was snatched to pass the hounds of shadow was a few thing a few paces ahead and it was a few paces away from the garden the foreman said was a                                               \n",
       "200  breathtaking creatures on the wagon closing over her hands into the midst of a dozen nearby structures figures now clambered on the cobbles and then drawn in a chunk of stone that swirled past a screaming street and whirled through the estates district and eastward to the estate compound that   \n",
       "300  breathtaking creatures on the hounds tattoo like black roots a thundering of soldiering but the one who sought to arrive out of this dark was bleeding telling us on to me no could be so much he drew out that and that he could gaze forward enough and he had                                        \n",
       "\n",
       "                                                                                                                                                                                                                                              malazan-tth-lstm_size_200  \\\n",
       "010  s eyes and the man was not the man s eyes was the man s eyes and the man was a man s eyes and the man was a man s eyes and the man was a man s eyes was the man s eyes and the man was a                                                                             \n",
       "020  s charms the other tool the god had been spoken and the last thing of the fated a woman who had been cooing of weather of reeds the battlefield was threading into the midst of the cart and the one of the hoses was unclaimed and the one who had                  \n",
       "030  s consideration and needed to be stationed in the grasses the entire way of the world the explosions the suave lie and the whipping snow sprayed winds and then the one of the chained was the first robust among the nobles s a dead and the high king halts it     \n",
       "050  breathtaking terrifying the five plain of the gedderone f te was sinking away in the sky the world was rank with the dream who had once been itkovian down in the path of the enemy he was not endest silann could feel the same when they were truly nimander did   \n",
       "150  breathtaking terrifying they were but ghosts as they fought with a fancy aghast but now he would feel the ones more of anomander rake had ever been the cloud to spill the blind of oblivion the city it had been a time but the one that bore the lord of           \n",
       "200  s dark judgement those few and the grip and all the lord of the dead f te and two great ravens were playing and proof of dread dread forces of shadow and two others and now the moon arrived in its skull had draining long and so much a single                    \n",
       "300  s consideration a pattern a sword no little woman had been watching and none of this will such take this by the two god had things he would have to send him home the man had never been that it would be but he had no other to fall into                           \n",
       "\n",
       "                                                                                                                                                                                                                                                                       malazan-tth-lstm_size_300  \n",
       "010  s face and the man s head was a single thing of the city of the city of the city of the city of the city of the city of the city of the city of the city of the city of the city of the city of the city                                                                                     \n",
       "020  breathtaking terrifying the world was gone the dragon was gone the beast was gone destroying the way of the city and the hound s head was the hounds of shadow and the hound s head was a endless machinery of skins and bone as if the beast was gone the                                   \n",
       "030  breathtaking terrifying he could feel the principle of convergence and cunning to the south of the gadrobi hills and the hounds of shadow had begun to shape the pickings of the house s head and acrobatically avoiding the impact boomed in the midst of the city exploded and the hounds  \n",
       "050  breathtaking terrifying they toppled on the sisters s careering eyes swung down from the saddle the beast s head pitched back on the mirror waters of the street and then a jungle nestled impossibly as the hounds of shadow had begun to shape the pickings on the cobbles and then        \n",
       "150  breathtaking terrifying they looked gouged used their soft gifts before one side to the night a god s brain this lost his companion did the most chaos had now killed free of the tumbled wrinkled canvas of bodies that scurried in the centre of the city if he was worthy                 \n",
       "200  breathtaking terrifying they might have been sufficient cause for some time could prove some trouble are indeed as they were in a group in an instant dragons would not be so centuries to heal wait to do and to see the damage but all this one and anomander rake himself                 \n",
       "300  breathtaking terrifying they drew them into the air the gloom was locked in convulsions a convergence of inimical elements a narrow door to stare into the base of his brain surna and a few deep over the doorway s head were crossed his arms and i need to find a                         "
      ]
     },
     "execution_count": 36,
     "metadata": {},
     "output_type": "execute_result"
    }
   ],
   "source": [
    "pd.DataFrame(lstm_preds)"
   ]
  },
  {
   "cell_type": "markdown",
   "metadata": {},
   "source": [
    "We begin by looking at how LSTM layer size affects the ability of our model to learn.  After 10 and 20 iterations, there's no noticeable difference between each model, with repetition and nonsensical words produced.  What's interesting is that by iteration 30, the model with LSTM size 300 begins to predict the word sequence \"breathtaking terrifying\" following our input sentence, which LSTM size 200 and 100  predicing this reaching this point in 50 and 150 iterations, respectively.  \n",
    "\n",
    "As we reach 300 iterations, the following is noticeable:\n",
    "\n",
    "- LSTM size 100 diverges from the phrase `breathtaking terrifying` to `breathtaking creatures` at iteration 200  \n",
    "- LSTM size 200 goes on its own path at iteration 200 and begins predicting new word sequences  \n",
    "- LSTM size 300 remains adamant `breahtaking terrifying` is the most likely sequence following our input sentence  \n",
    "\n",
    "Even with 300 epochs, the generated text prediction is not coherent, but is able to capture some of the key elements in the book following the specific scene.  For example, the LSTM size 300 is able to identify `a convergence` which is indeed a key theme surrounding this passage."
   ]
  },
  {
   "cell_type": "code",
   "execution_count": 17,
   "metadata": {},
   "outputs": [
    {
     "data": {
      "text/html": [
       "<div>\n",
       "<style scoped>\n",
       "    .dataframe tbody tr th:only-of-type {\n",
       "        vertical-align: middle;\n",
       "    }\n",
       "\n",
       "    .dataframe tbody tr th {\n",
       "        vertical-align: top;\n",
       "    }\n",
       "\n",
       "    .dataframe thead th {\n",
       "        text-align: right;\n",
       "    }\n",
       "</style>\n",
       "<table border=\"1\" class=\"dataframe\">\n",
       "  <thead>\n",
       "    <tr style=\"text-align: right;\">\n",
       "      <th></th>\n",
       "      <th>malazan-tth-batch_size_64</th>\n",
       "      <th>malazan-tth-batch_size_128</th>\n",
       "      <th>malazan-tth-batch_size_256</th>\n",
       "    </tr>\n",
       "  </thead>\n",
       "  <tbody>\n",
       "    <tr>\n",
       "      <th>010</th>\n",
       "      <td>he had been a single thing of the city the god was the god was the god was the god was the god was the god was the god of the city the god was the god of the city the god was the god s face the beast was</td>\n",
       "      <td>and the man s head and a single thing and the man s head and a single thing of the city and the man s head and the man s head and a single thing and then he had been a single thing and then he had been a single</td>\n",
       "      <td>s face and the beast s face and the beast s face he was a god s one s one s face he was a man s one s one s face he was a man s one s one s one s one s one of the city that</td>\n",
       "    </tr>\n",
       "    <tr>\n",
       "      <th>020</th>\n",
       "      <td>to behold the man s hoofs echoed in the midst of the track sembling almost transparent in the air the ancient man s head were prodding the air and a moment later she was thrown from the saddle and then he could not be necessary and worse else and then</td>\n",
       "      <td>that begins the notion of shadow had been singular indulgence she had been a single refrain of the city of the world the redeemer were a few of the world the redeemer were a few of the city that was the harvester of shadow had been chosen by the city</td>\n",
       "      <td>the guard had been a single ravens gambit the world the two man had been a few priestess the man s eye the man s head was a few of the world the two man had been a few of the world the two man had been a few priestess</td>\n",
       "    </tr>\n",
       "    <tr>\n",
       "      <th>030</th>\n",
       "      <td>breathtaking terrifying and the nearest things were doomed to the petty squabbles of the city the explosions the gloom the ancient moon chapter a bow wave of awareness and then the beast was finished the entire hounds of shadow unleashed the endless machinery of bhokarala tumbled loose from the air</td>\n",
       "      <td>he had been arguing and in shaping the man s eye clutching the city and the conveyance tear down in the air and the hound s momentum slammed him from the air and then the hounds of shadow was fading dulling his own stock of the city and the man</td>\n",
       "      <td>and then he could not be a newly vacated seat to the city of the gadrobi district and the beleaguered gossipy barrier between the city the caged plain and then the hounds of shadow had been tacked to the phoenix inn the foreman was not even so clever he had</td>\n",
       "    </tr>\n",
       "    <tr>\n",
       "      <th>050</th>\n",
       "      <td>breathtaking terrifying and a few pulped bodies in the mix clouds of dust spurts of hissing flame from ruptured gas pipes the ominous subterranean roar of deadlier eruptions such a thing can stick a thumping cart to the south of the house harsh and bone the undead god slowly said</td>\n",
       "      <td>s own law no one would match the gratitude of the past and the frailty of draconus unleashed the ancient family held the edge of the man s eye and the victor s instructions and the victor s instructions was a prick under his neck the beast of the track</td>\n",
       "      <td>the night of the world the hounds of shadow was no time and he had been so much to resist the riot of senseless celebration shorn had been chained for that he had no idea he was a survivor he d been a few day clip s not his own</td>\n",
       "    </tr>\n",
       "    <tr>\n",
       "      <th>150</th>\n",
       "      <td>breathtaking terrifying they were about the hounds of shadow could be viewed as inevitable given the scant training these assassins possessed since this group was the spit leading to close the beast s head struck the hound s head pitched down on his knees doubling up the edge of the</td>\n",
       "      <td>to witness to stand in the ash swarmed sky above their stumpy howling into their smoke samar dev saw the river of darkness that passes up in some jutting rush through the detritus while a handful of terrified pilgrims fled back the other side of the base of the wagon</td>\n",
       "      <td>was suddenly hunger and all that were the taste of patience but what was he doing nothing he could make use the very one who had been so much of them he was not speaking about it he was seeing as you have people brushed his cheek and then the</td>\n",
       "    </tr>\n",
       "    <tr>\n",
       "      <th>200</th>\n",
       "      <td>breathtaking terrifying they were of the same no one else to bear witness to a home of power until the very goddess was like a single refrain of some blessed sister a gods standing there was a fresh mound of raw earth steaming vines were visibly snaking down to the</td>\n",
       "      <td>breathtaking terrifying they continued sighing no doubt as if the soul had never lost for such a manifestation of chaos above its very indifference as the unexpected soul of the great ravens wheeled adding their faded strokes of millions were air it stood on the animal s brain that staggered</td>\n",
       "      <td>breathtaking terrifying they had gone before the woman who had been so much as it was possible to go in a reconciliatory face of a spreading glittering face that was the only thing of such things could a clever gesture the one god had been an eye of the man</td>\n",
       "    </tr>\n",
       "    <tr>\n",
       "      <th>300</th>\n",
       "      <td>breathtaking terrifying their warrens left all is no lost to be an inspiring standard to stand in front of hardly a thing not even lost but it was some time before answering it meant to him of course they would all die but he had just been so much of</td>\n",
       "      <td>breathtaking terrifying the beast had gone to resist an act of courage to wipe their ancestors their heads draconus crawled in the path to the scene to fight everywhere to the high king s swift spite the god remains out in behind her a city are arrayed into a crushing</td>\n",
       "      <td>breathtaking terrifying they had gone now oh here now in the meantime how bout that and nimander was the only chance that yes he would make the knot of which made this matter the grim confines of gradithan and then she s and heard her mind and it was as</td>\n",
       "    </tr>\n",
       "  </tbody>\n",
       "</table>\n",
       "</div>"
      ],
      "text/plain": [
       "                                                                                                                                                                                                                                                                                       malazan-tth-batch_size_64  \\\n",
       "010  he had been a single thing of the city the god was the god was the god was the god was the god was the god was the god of the city the god was the god of the city the god was the god s face the beast was                                                                                                   \n",
       "020  to behold the man s hoofs echoed in the midst of the track sembling almost transparent in the air the ancient man s head were prodding the air and a moment later she was thrown from the saddle and then he could not be necessary and worse else and then                                                   \n",
       "030  breathtaking terrifying and the nearest things were doomed to the petty squabbles of the city the explosions the gloom the ancient moon chapter a bow wave of awareness and then the beast was finished the entire hounds of shadow unleashed the endless machinery of bhokarala tumbled loose from the air   \n",
       "050  breathtaking terrifying and a few pulped bodies in the mix clouds of dust spurts of hissing flame from ruptured gas pipes the ominous subterranean roar of deadlier eruptions such a thing can stick a thumping cart to the south of the house harsh and bone the undead god slowly said                      \n",
       "150  breathtaking terrifying they were about the hounds of shadow could be viewed as inevitable given the scant training these assassins possessed since this group was the spit leading to close the beast s head struck the hound s head pitched down on his knees doubling up the edge of the                   \n",
       "200  breathtaking terrifying they were of the same no one else to bear witness to a home of power until the very goddess was like a single refrain of some blessed sister a gods standing there was a fresh mound of raw earth steaming vines were visibly snaking down to the                                     \n",
       "300  breathtaking terrifying their warrens left all is no lost to be an inspiring standard to stand in front of hardly a thing not even lost but it was some time before answering it meant to him of course they would all die but he had just been so much of                                                    \n",
       "\n",
       "                                                                                                                                                                                                                                                                               malazan-tth-batch_size_128  \\\n",
       "010  and the man s head and a single thing and the man s head and a single thing of the city and the man s head and the man s head and a single thing and then he had been a single thing and then he had been a single                                                                                     \n",
       "020  that begins the notion of shadow had been singular indulgence she had been a single refrain of the city of the world the redeemer were a few of the world the redeemer were a few of the city that was the harvester of shadow had been chosen by the city                                             \n",
       "030  he had been arguing and in shaping the man s eye clutching the city and the conveyance tear down in the air and the hound s momentum slammed him from the air and then the hounds of shadow was fading dulling his own stock of the city and the man                                                   \n",
       "050  s own law no one would match the gratitude of the past and the frailty of draconus unleashed the ancient family held the edge of the man s eye and the victor s instructions and the victor s instructions was a prick under his neck the beast of the track                                           \n",
       "150  to witness to stand in the ash swarmed sky above their stumpy howling into their smoke samar dev saw the river of darkness that passes up in some jutting rush through the detritus while a handful of terrified pilgrims fled back the other side of the base of the wagon                            \n",
       "200  breathtaking terrifying they continued sighing no doubt as if the soul had never lost for such a manifestation of chaos above its very indifference as the unexpected soul of the great ravens wheeled adding their faded strokes of millions were air it stood on the animal s brain that staggered   \n",
       "300  breathtaking terrifying the beast had gone to resist an act of courage to wipe their ancestors their heads draconus crawled in the path to the scene to fight everywhere to the high king s swift spite the god remains out in behind her a city are arrayed into a crushing                           \n",
       "\n",
       "                                                                                                                                                                                                                                            malazan-tth-batch_size_256  \n",
       "010  s face and the beast s face and the beast s face he was a god s one s one s face he was a man s one s one s face he was a man s one s one s one s one s one of the city that                                                                                       \n",
       "020  the guard had been a single ravens gambit the world the two man had been a few priestess the man s eye the man s head was a few of the world the two man had been a few of the world the two man had been a few priestess                                          \n",
       "030  and then he could not be a newly vacated seat to the city of the gadrobi district and the beleaguered gossipy barrier between the city the caged plain and then the hounds of shadow had been tacked to the phoenix inn the foreman was not even so clever he had  \n",
       "050  the night of the world the hounds of shadow was no time and he had been so much to resist the riot of senseless celebration shorn had been chained for that he had no idea he was a survivor he d been a few day clip s not his own                                \n",
       "150  was suddenly hunger and all that were the taste of patience but what was he doing nothing he could make use the very one who had been so much of them he was not speaking about it he was seeing as you have people brushed his cheek and then the                 \n",
       "200  breathtaking terrifying they had gone before the woman who had been so much as it was possible to go in a reconciliatory face of a spreading glittering face that was the only thing of such things could a clever gesture the one god had been an eye of the man  \n",
       "300  breathtaking terrifying they had gone now oh here now in the meantime how bout that and nimander was the only chance that yes he would make the knot of which made this matter the grim confines of gradithan and then she s and heard her mind and it was as      "
      ]
     },
     "execution_count": 17,
     "metadata": {},
     "output_type": "execute_result"
    }
   ],
   "source": [
    "pd.DataFrame(batch_preds)"
   ]
  },
  {
   "cell_type": "markdown",
   "metadata": {},
   "source": [
    "Next, we move on to making understanding how change batch size affects the training process of our model.  Let's pause first and consider the literature on batch size, which nmakes makes the following comments on batch size:\n",
    "\n",
    "- Larger batch size yields faster computations and training of the data \n",
    "- At the same time, a batch size that's too large will result in a model that is less generalizable (this can be empirically tested with a test set and measuring accuracy)  \n",
    "- A smaller batch size yields faster convergence to solutions\n",
    "\n",
    "Do we observe this in the data?\n",
    "\n",
    "From our previous review of how changing LSTM size affects model performance, we observed that \"predicting \"breahtaking terrifying\" as the most likely sequence following our input sequence seemed to be the \"convergent\" solution.  We see with a small batch size of 64, the model converges to this prediction with only 30 epochs.  This is quite an improvement over larger batch sizes!\n",
    "\n",
    "It's also noticeable that with a smaller batch size, we obtain more readable sentences that follow generally correct grammatical structure with fewer epochs than that of larger batch sizes. Certain sequences of predicted text are almost passable for being in the book, and some are comical (e.g., \"draconus crawled in the path to the scene to fight everywhere\").  \n",
    "\n",
    "Sources:  [Source 1](https://machinelearningmastery.com/difference-between-a-batch-and-an-epoch/), [Source 2](https://medium.com/mini-distill/effect-of-batch-size-on-training-dynamics-21c14f7a716e), [Source 3](https://stats.stackexchange.com/questions/164876/what-is-the-trade-off-between-batch-size-and-number-of-iterations-to-train-a-neu)  \n",
    "\n"
   ]
  },
  {
   "cell_type": "markdown",
   "metadata": {},
   "source": [
    "# Concluding Remarks\n",
    "\n",
    "This was a good initial journey to understanding how the hyperparameters of batch size, epoch, and LSTM layer size affects training of a NLP text generating model.  Training time was quite long, averaging about 20 minutes per epoch, with only the last section of one single book.  Attempting to train on the full book, which would have yielded more interesting results, was over 2 hours per epoch.  Looking forward, the following could be done:\n",
    "\n",
    "- Include a test set to measure model accuracy and empirically measure observational interpretation of effects of batch size and LSTM size\n",
    "- Train on a larger sample of the book \n",
    "- Compare different models beyond tweaking of hyperparameters\n",
    "- Try different Dropout rates"
   ]
  },
  {
   "cell_type": "code",
   "execution_count": null,
   "metadata": {},
   "outputs": [],
   "source": []
  }
 ],
 "metadata": {
  "kernelspec": {
   "display_name": "nlu",
   "language": "python",
   "name": "nlu"
  },
  "language_info": {
   "codemirror_mode": {
    "name": "ipython",
    "version": 3
   },
   "file_extension": ".py",
   "mimetype": "text/x-python",
   "name": "python",
   "nbconvert_exporter": "python",
   "pygments_lexer": "ipython3",
   "version": "3.7.6"
  }
 },
 "nbformat": 4,
 "nbformat_minor": 2
}
